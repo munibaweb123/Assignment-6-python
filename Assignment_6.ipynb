{
  "nbformat": 4,
  "nbformat_minor": 0,
  "metadata": {
    "colab": {
      "provenance": []
    },
    "kernelspec": {
      "name": "python3",
      "display_name": "Python 3"
    },
    "language_info": {
      "name": "python"
    }
  },
  "cells": [
    {
      "cell_type": "markdown",
      "source": [
        "# **1. Using self**\n",
        "## **Assignment:**\n",
        "### Create a class Student with attributes name and marks. Use the self keyword to initialize these values via a constructor. Add a method display() that prints student details."
      ],
      "metadata": {
        "id": "czUdMPm6FUVM"
      }
    },
    {
      "cell_type": "code",
      "source": [
        "class Student:\n",
        "  def __init__(self,name,marks):\n",
        "    self.name = name\n",
        "    self.marks = marks\n",
        "  def display(self):\n",
        "    print(f\"Student {self.name} information:\")\n",
        "    print(\"Name:\",self.name)\n",
        "    print(\"Marks:\",self.marks)\n",
        "student1 = Student('Muniba',95)\n",
        "student1.display()\n",
        "student2 = Student('Areeba',90)\n",
        "student2.display()"
      ],
      "metadata": {
        "colab": {
          "base_uri": "https://localhost:8080/"
        },
        "id": "_Qe01-DBFqkn",
        "outputId": "7518aa6f-06b7-4efd-83e2-ae9e514e13c2"
      },
      "execution_count": null,
      "outputs": [
        {
          "output_type": "stream",
          "name": "stdout",
          "text": [
            "Student Muniba information:\n",
            "Name: Muniba\n",
            "Marks: 95\n",
            "Student Areeba information:\n",
            "Name: Areeba\n",
            "Marks: 90\n"
          ]
        }
      ]
    },
    {
      "cell_type": "markdown",
      "source": [
        "# **2. Using cls**\n",
        "## **Assignment:**\n",
        "### Create a class Counter that keeps track of how many objects have been created. Use a class variable and a class method with cls to manage and display the count."
      ],
      "metadata": {
        "id": "AH9LfRQzGxrO"
      }
    },
    {
      "cell_type": "code",
      "source": [
        "class Counter:\n",
        "  count = 0\n",
        "  def __init__(self):\n",
        "    Counter.count += 1 # increament in class variable with class name\n",
        "  @classmethod\n",
        "  def display_count(cls): # class method with cls class attribute and decorator\n",
        "    print(f\"Total objects created: {cls.count}\")\n",
        "counter1 = Counter()\n",
        "counter2 = Counter()\n",
        "counter3 = Counter()\n",
        "counter4 = Counter()\n",
        "Counter.display_count()\n"
      ],
      "metadata": {
        "colab": {
          "base_uri": "https://localhost:8080/"
        },
        "id": "T1tllh4LHAHl",
        "outputId": "1dbd39e5-609c-4005-a918-39f6a93d7f54"
      },
      "execution_count": null,
      "outputs": [
        {
          "output_type": "stream",
          "name": "stdout",
          "text": [
            "Total objects created: 4\n"
          ]
        }
      ]
    },
    {
      "cell_type": "markdown",
      "source": [
        "# **3. Public Variables and Methods**\n",
        "## **Assignment:**\n",
        "### Create a class Car with a public variable brand and a public method start(). Instantiate the class and access both from outside the class."
      ],
      "metadata": {
        "id": "r2QWWwO9MEUO"
      }
    },
    {
      "cell_type": "code",
      "source": [
        "class Car:\n",
        "    def __init__(self,brand):\n",
        "      self.brand = brand\n",
        "    def start(self):\n",
        "      print(f\"The {self.brand} car has started.\")\n",
        "car = Car(\"Toyota\")\n",
        "print(car.brand)\n",
        "car.start()\n"
      ],
      "metadata": {
        "colab": {
          "base_uri": "https://localhost:8080/"
        },
        "id": "JM6V4s6mMP2z",
        "outputId": "581a91c7-4cf7-471c-bd6d-d281864bc52f"
      },
      "execution_count": null,
      "outputs": [
        {
          "output_type": "stream",
          "name": "stdout",
          "text": [
            "Toyota\n",
            "The Toyota car has started.\n"
          ]
        }
      ]
    },
    {
      "cell_type": "markdown",
      "source": [
        "# **4. Class Variables and Class Methods**\n",
        "## **Assignment:**\n",
        "### Create a class Bank with a class variable bank_name. Add a class method change_bank_name(cls, name) that allows changing the bank name. Show that it affects all instances."
      ],
      "metadata": {
        "id": "aFszDImgOSjq"
      }
    },
    {
      "cell_type": "code",
      "source": [
        "class Bank:\n",
        "  bank_name = \"Abl\"\n",
        "  def __init__(self,name):\n",
        "    self.name = name\n",
        "  @classmethod\n",
        "  def change_bank_name(cls,name):\n",
        "    cls.bank_name = name\n",
        "bank1 = Bank(\"Muniba\")\n",
        "bank2 = Bank(\"Areeba\")\n",
        "print(bank1.name,bank1.bank_name) # bank name before changing name of bank1\n",
        "print(bank2.name,bank2.bank_name) # bank name before changing name of bank2\n",
        "bank1.change_bank_name(\"Meezan\")\n",
        "print(bank1.name,bank1.bank_name) # bank name after changing name of bank1\n",
        "print(bank2.name,bank2.bank_name) # bank name after changing name of bank2"
      ],
      "metadata": {
        "colab": {
          "base_uri": "https://localhost:8080/"
        },
        "id": "fcSc5xiKOdq0",
        "outputId": "25ef5872-bd1d-443d-c813-657312c863b9"
      },
      "execution_count": null,
      "outputs": [
        {
          "output_type": "stream",
          "name": "stdout",
          "text": [
            "Muniba Abl\n",
            "Areeba Abl\n",
            "Muniba Meezan\n",
            "Areeba Meezan\n"
          ]
        }
      ]
    },
    {
      "cell_type": "markdown",
      "source": [
        "# **5. Static Variables and Static Methods**\n",
        "## **Assignment:**\n",
        "### Create a class MathUtils with a static method add(a, b) that returns the sum. No class or instance variables should be used."
      ],
      "metadata": {
        "id": "i8WwAnoyP59b"
      }
    },
    {
      "cell_type": "code",
      "source": [
        "class MathUtils:\n",
        "  @staticmethod\n",
        "  def add(a, b):\n",
        "    return a + b\n",
        "\n",
        "math1 = MathUtils()\n",
        "sum = math1.add(11,12)\n",
        "print(sum)\n",
        "\n"
      ],
      "metadata": {
        "colab": {
          "base_uri": "https://localhost:8080/"
        },
        "id": "yI65O6R6QHF8",
        "outputId": "c2371180-e5af-4c58-8b98-7b9fbdc2565d"
      },
      "execution_count": null,
      "outputs": [
        {
          "output_type": "stream",
          "name": "stdout",
          "text": [
            "23\n"
          ]
        }
      ]
    },
    {
      "cell_type": "markdown",
      "source": [
        "# **6. Constructors and Destructors**\n",
        "## **Assignment:**\n",
        "### Create a class Logger that prints a message when an object is created (constructor) and another message when it is destroyed (destructor)."
      ],
      "metadata": {
        "id": "Wx7C0f_OROuf"
      }
    },
    {
      "cell_type": "code",
      "source": [
        "class Logger:\n",
        "  def __init__(self,message): # constructor\n",
        "    self.message = message\n",
        "    print(f\"Object created with message: {self.message}\")\n",
        "  def __del__(self): # destructor\n",
        "    print(f\"Object destroyed with message: {self.message}\")\n",
        "logger1 = Logger(\"Muniba is logged in\")\n",
        "del logger1\n",
        "# print(logger1) # object logger1 is destroyed\n"
      ],
      "metadata": {
        "colab": {
          "base_uri": "https://localhost:8080/"
        },
        "id": "-BghNlPsRnSZ",
        "outputId": "86a58eb2-6d27-487a-9e24-f2259d504cc5"
      },
      "execution_count": null,
      "outputs": [
        {
          "output_type": "stream",
          "name": "stdout",
          "text": [
            "Object created with message: Muniba is logged in\n",
            "Object destroyed with message: Muniba is logged in\n"
          ]
        }
      ]
    },
    {
      "cell_type": "markdown",
      "source": [
        "# **7. Access Modifiers: Public, Private, and Protected**\n",
        "## **Assignment:**\n",
        "### Create a class Employee with:\n",
        "\n",
        "a public variable name,\n",
        "\n",
        "a protected variable _salary, and\n",
        "\n",
        "a private variable __ssn.\n",
        "\n",
        "Try accessing all three variables from an object of the class and document what happens."
      ],
      "metadata": {
        "id": "puoi3AYjTUfb"
      }
    },
    {
      "cell_type": "code",
      "source": [
        "class Employee:\n",
        "  def __init__(self,name,_salary,__ssn):\n",
        "    self.name = name\n",
        "    self._salary = _salary\n",
        "    self.__ssn = __ssn\n",
        "  def get_salary(self):\n",
        "    return self._salary\n",
        "  def get_ssn(self):\n",
        "    return self.__ssn\n",
        "emp1 = Employee('Alice',100000,'123456789')\n",
        "print(emp1.get_salary())\n",
        "print(emp1.get_ssn())\n",
        "print(emp1.name) # name is public so it is accessible\n",
        "print(emp1._salary) # salary is protected so it shouldn't\n",
        "# print(emp1.__ssn) # ssn is private it raise an error and can't be accessible\n"
      ],
      "metadata": {
        "colab": {
          "base_uri": "https://localhost:8080/"
        },
        "id": "JnH3ffJ7TsXT",
        "outputId": "1fb86307-02ae-470f-9d5a-c51c90a773c2"
      },
      "execution_count": null,
      "outputs": [
        {
          "output_type": "stream",
          "name": "stdout",
          "text": [
            "100000\n",
            "123456789\n",
            "Alice\n",
            "100000\n"
          ]
        }
      ]
    },
    {
      "cell_type": "markdown",
      "source": [
        "# **8. The super() Function**\n",
        "## **Assignment:**\n",
        "### Create a class Person with a constructor that sets the name. Inherit a class Teacher from it, add a subject field, and use super() to call the base class constructor."
      ],
      "metadata": {
        "id": "FAWPjQxuVZW0"
      }
    },
    {
      "cell_type": "code",
      "source": [
        "class Person:\n",
        "  def __init__(self,name):\n",
        "    self.name = name\n",
        "class Teacher(Person):\n",
        "  def __init__(self,name,subject):\n",
        "    super().__init__(name)\n",
        "    self.subject = subject\n",
        "teacher1 = Teacher(\"Muniba\",\"Math\")\n",
        "print(teacher1.name)\n",
        "print(teacher1.subject)\n"
      ],
      "metadata": {
        "colab": {
          "base_uri": "https://localhost:8080/"
        },
        "id": "rzU9f4svVuls",
        "outputId": "bdf39d10-b12b-4cba-df90-640134b515c1"
      },
      "execution_count": null,
      "outputs": [
        {
          "output_type": "stream",
          "name": "stdout",
          "text": [
            "Muniba\n",
            "Math\n"
          ]
        }
      ]
    },
    {
      "cell_type": "markdown",
      "source": [
        "# **9. Abstract Classes and Methods**\n",
        "## **Assignment:**\n",
        "### Use the abc module to create an abstract class Shape with an abstract method area(). Inherit a class Rectangle that implements area()."
      ],
      "metadata": {
        "id": "PQWmjrW0WXPM"
      }
    },
    {
      "cell_type": "code",
      "source": [
        "from abc import abstractmethod\n",
        "class Shape:\n",
        "  @abstractmethod\n",
        "  def area(abc):\n",
        "    pass\n",
        "class Rectangle(Shape):\n",
        "  def __init__(self,length,width):\n",
        "    self.length = length\n",
        "    self.width = width\n",
        "  def area(self):\n",
        "    return self.length * self.width\n",
        "rectangle1 = Rectangle(10,20)\n",
        "print(rectangle1.area())\n"
      ],
      "metadata": {
        "colab": {
          "base_uri": "https://localhost:8080/"
        },
        "id": "gG1qxMERWWqu",
        "outputId": "41779a56-a931-44e2-ddd2-c9783428fbb3"
      },
      "execution_count": null,
      "outputs": [
        {
          "output_type": "stream",
          "name": "stdout",
          "text": [
            "200\n"
          ]
        }
      ]
    },
    {
      "cell_type": "markdown",
      "source": [
        "# **10. Instance Methods**\n",
        "## **Assignment:**\n",
        "### Create a class Dog with instance variables name and breed. Add an instance method bark() that prints a message including the dog's name."
      ],
      "metadata": {
        "id": "GYtwzKf1XktF"
      }
    },
    {
      "cell_type": "code",
      "source": [
        "class Dog:\n",
        "  def __init__(self,name,breed):\n",
        "    self.name = name\n",
        "    self.breed = breed\n",
        "  def bark(self):\n",
        "    print(f\"{self.name} the {self.breed} dog is barking\")\n",
        "dog1 = Dog(\"Buddy\",\"Labrador\")\n",
        "dog1.bark()\n"
      ],
      "metadata": {
        "colab": {
          "base_uri": "https://localhost:8080/"
        },
        "id": "G5J2PIGnYCta",
        "outputId": "2d427024-2f4c-4995-ed82-412622e5789b"
      },
      "execution_count": null,
      "outputs": [
        {
          "output_type": "stream",
          "name": "stdout",
          "text": [
            "Buddy the Labrador dog is barking\n"
          ]
        }
      ]
    },
    {
      "cell_type": "markdown",
      "source": [
        "# **11. Class Methods**\n",
        "## **Assignment:**\n",
        "### Create a class Book with a class variable total_books. Add a class method increment_book_count() to increase the count when a new book is added."
      ],
      "metadata": {
        "id": "P2ZiXatiYfnW"
      }
    },
    {
      "cell_type": "code",
      "source": [
        "class Book:\n",
        "  total_books = 0\n",
        "  def __init__(self,title):\n",
        "    self.title = title\n",
        "  @classmethod\n",
        "  def increment_book_count(cls):\n",
        "    cls.total_books += 1\n",
        "book1 = Book(\"The Great Gatsby\")\n",
        "Book.increment_book_count()\n",
        "print(f\"{book1.title} is book {book1.total_books}\")\n",
        "\n",
        "book2 = Book(\"To Kill a Mockingbird\")\n",
        "Book.increment_book_count()\n",
        "print(f\"{book2.title} is book {book2.total_books}\")"
      ],
      "metadata": {
        "colab": {
          "base_uri": "https://localhost:8080/"
        },
        "id": "oEj2E1XrYoYt",
        "outputId": "bb3860cb-1512-497c-ae64-84bf426eee29"
      },
      "execution_count": null,
      "outputs": [
        {
          "output_type": "stream",
          "name": "stdout",
          "text": [
            "The Great Gatsby is book 1\n",
            "To Kill a Mockingbird is book 2\n"
          ]
        }
      ]
    },
    {
      "cell_type": "markdown",
      "source": [
        "# **12. Static Methods**\n",
        "## **Assignment:**\n",
        "### Create a class TemperatureConverter with a static method celsius_to_fahrenheit(c) that returns the Fahrenheit value."
      ],
      "metadata": {
        "id": "ezSnZVxxZqpI"
      }
    },
    {
      "cell_type": "code",
      "source": [
        "class TemperatureConverter:\n",
        "    def __init__(self, celsius_temp):\n",
        "        self.celsius_temp = celsius_temp\n",
        "\n",
        "    @staticmethod\n",
        "    def celsius_to_fahrenheit(celsius_temp):\n",
        "        fahrenheit_temp = (celsius_temp * 9/5) + 32\n",
        "        return fahrenheit_temp\n",
        "temp1 = TemperatureConverter(30)\n",
        "print(f\"{temp1.celsius_temp}C to {temp1.celsius_to_fahrenheit(30)}F\")\n"
      ],
      "metadata": {
        "colab": {
          "base_uri": "https://localhost:8080/"
        },
        "id": "_pdLHDQBZ2VE",
        "outputId": "3627a1bb-0841-4988-8c07-486a02ed9244"
      },
      "execution_count": null,
      "outputs": [
        {
          "output_type": "stream",
          "name": "stdout",
          "text": [
            "30C to 86.0F\n"
          ]
        }
      ]
    },
    {
      "cell_type": "markdown",
      "source": [
        "# **13. Composition**\n",
        "## **Assignment:**\n",
        "### Create a class Engine and a class Car. Use composition by passing an Engine object to the Car class during initialization. Access a method of the Engine class via the Car class."
      ],
      "metadata": {
        "id": "33hqoZrQaxtI"
      }
    },
    {
      "cell_type": "code",
      "source": [
        "class Engine:\n",
        "  def __init__(self,engine_type):\n",
        "    self.engine_type = engine_type\n",
        "  def start(self):\n",
        "    print(f\"The {self.engine_type} engine is starting\")\n",
        "class Car:\n",
        "  def __init__(self,engine):\n",
        "    self.engine = engine\n",
        "  def start_engine(self):\n",
        "    self.engine.start()\n",
        "engine1 = Engine(\"V8\")\n",
        "car1 = Car(engine1)\n",
        "car1.start_engine()"
      ],
      "metadata": {
        "colab": {
          "base_uri": "https://localhost:8080/"
        },
        "id": "QQHe8zQEa6JM",
        "outputId": "5614559f-a6ea-40b6-dd22-f52c65824f97"
      },
      "execution_count": null,
      "outputs": [
        {
          "output_type": "stream",
          "name": "stdout",
          "text": [
            "The V8 engine is starting\n"
          ]
        }
      ]
    },
    {
      "cell_type": "markdown",
      "source": [
        "# **14. Aggregation**\n",
        "## **Assignment:**\n",
        "### Create a class Department and a class Employee. Use aggregation by having a Department object store a reference to an Employee object that exists independently of it."
      ],
      "metadata": {
        "id": "9XXBWTP9cDWF"
      }
    },
    {
      "cell_type": "code",
      "source": [
        "class Department:\n",
        "  def __init__(self,name):\n",
        "    self.name = name\n",
        "class Employee:\n",
        "  def __init__(self,name,department):\n",
        "    self.name = name\n",
        "    self.department = department\n",
        "dep1 = Department(\"IT\")\n",
        "emp1 = Employee(\"Muniba\",dep1)\n",
        "print(emp1.name)\n",
        "print(emp1.department.name)"
      ],
      "metadata": {
        "colab": {
          "base_uri": "https://localhost:8080/"
        },
        "id": "H9GtBWw-cLwy",
        "outputId": "1a895af9-bdcb-4d3e-ad49-c097e8c31e96"
      },
      "execution_count": null,
      "outputs": [
        {
          "output_type": "stream",
          "name": "stdout",
          "text": [
            "Muniba\n",
            "IT\n"
          ]
        }
      ]
    },
    {
      "cell_type": "markdown",
      "source": [
        "# **15. Method Resolution Order (MRO) and Diamond Inheritance**\n",
        "## **Assignment:**\n",
        "### Create four classes:\n",
        "\n",
        "A with a method show(),\n",
        "\n",
        "B and C that inherit from A and override show(),\n",
        "\n",
        "D that inherits from both B and C.\n",
        "\n",
        "Create an object of D and call show() to observe MRO."
      ],
      "metadata": {
        "id": "ZR3mQLuMcraB"
      }
    },
    {
      "cell_type": "code",
      "source": [
        "class A:\n",
        "  def show(self):\n",
        "    print(\"Method from class A\")\n",
        "class B(A):\n",
        "  def show(self):\n",
        "    print(\"Method from class B\")\n",
        "class C(A):\n",
        "  def show(self):\n",
        "    print(\"Method from class C\")\n",
        "class D(B,C):\n",
        "  pass\n",
        "d1 = D()\n",
        "d1.show()\n",
        "\n"
      ],
      "metadata": {
        "colab": {
          "base_uri": "https://localhost:8080/"
        },
        "id": "F-uShsvQc3cx",
        "outputId": "7426851c-af92-4c02-e10b-5175f8b62ff6"
      },
      "execution_count": null,
      "outputs": [
        {
          "output_type": "stream",
          "name": "stdout",
          "text": [
            "Method from class B\n"
          ]
        }
      ]
    },
    {
      "cell_type": "markdown",
      "source": [
        "# **16. Function Decorators**\n",
        "## **Assignment:**\n",
        "### Write a decorator function log_function_call that prints \"Function is being called\" before a function executes. Apply it to a function say_hello()."
      ],
      "metadata": {
        "id": "LkEfxzPCeB2K"
      }
    },
    {
      "cell_type": "code",
      "source": [
        "def log_function_call(func):\n",
        "  def wrapper(*args,**kwargs):\n",
        "    print(\"Function is being called\")\n",
        "    return func(*args,**kwargs)\n",
        "  return wrapper\n",
        "@log_function_call\n",
        "def say_hello(): # decoractor function call that first call wrapper function then say_hello\n",
        "  print(\"Hello\")\n",
        "say_hello()\n"
      ],
      "metadata": {
        "colab": {
          "base_uri": "https://localhost:8080/"
        },
        "id": "OEudis6teLAq",
        "outputId": "be53cf89-132f-4cc0-a0f1-ee397e32586c"
      },
      "execution_count": null,
      "outputs": [
        {
          "output_type": "stream",
          "name": "stdout",
          "text": [
            "Function is being called\n",
            "Hello\n"
          ]
        }
      ]
    },
    {
      "cell_type": "markdown",
      "source": [
        "# **17. Class Decorators**\n",
        "## **Assignment:**\n",
        "### Create a class decorator add_greeting that modifies a class to add a greet() method returning \"Hello from Decorator!\". Apply it to a class Person."
      ],
      "metadata": {
        "id": "N5w81jyle_lK"
      }
    },
    {
      "cell_type": "code",
      "source": [
        "class add_greeting:\n",
        "  def __init__(self,cls):\n",
        "    self.cls = cls\n",
        "  def __call__(self,*args,**kwargs):\n",
        "    obj = self.cls(*args,**kwargs)\n",
        "    obj.greet = self.greet\n",
        "    return obj\n",
        "  def greet(cls):\n",
        "    return \"Hello from Decorator!\"\n",
        "@add_greeting\n",
        "class Person:\n",
        "  def __init__(self,name):\n",
        "    self.name = name\n",
        "person1 = Person(\"Muniba\")\n",
        "print(person1.name)\n",
        "print(person1.greet())\n",
        "\n",
        "\n"
      ],
      "metadata": {
        "colab": {
          "base_uri": "https://localhost:8080/"
        },
        "id": "AQM_7WcAfIlJ",
        "outputId": "4c76e782-1250-451a-d354-604393450dc5"
      },
      "execution_count": null,
      "outputs": [
        {
          "output_type": "stream",
          "name": "stdout",
          "text": [
            "Muniba\n",
            "Hello from Decorator!\n"
          ]
        }
      ]
    },
    {
      "cell_type": "markdown",
      "source": [
        "# **18. Property Decorators: @property, @setter, and @deleter**\n",
        "## **Assignment:**\n",
        "### Create a class Product with a private attribute _price. Use @property to get the price, @price.setter to update it, and @price.deleter to delete it."
      ],
      "metadata": {
        "id": "5zd7vbAugyVV"
      }
    },
    {
      "cell_type": "code",
      "source": [
        "class Product:\n",
        "  def __init__(self,price):\n",
        "    self._price = price\n",
        "  @property\n",
        "  def price(self):\n",
        "    return self._price\n",
        "  @price.setter\n",
        "  def price(self,price):\n",
        "    self._price = price\n",
        "  @price.deleter\n",
        "  def price(self):\n",
        "    del self._price\n",
        "product1 = Product(100)\n",
        "print(product1.price)"
      ],
      "metadata": {
        "colab": {
          "base_uri": "https://localhost:8080/"
        },
        "id": "tkYKUT-Vg-Av",
        "outputId": "6b30fdab-3888-4a79-dacf-0a3bee609e8d"
      },
      "execution_count": null,
      "outputs": [
        {
          "output_type": "stream",
          "name": "stdout",
          "text": [
            "100\n"
          ]
        }
      ]
    },
    {
      "cell_type": "markdown",
      "source": [
        "# **19. callable() and __call__()**\n",
        "## **Assignment:**\n",
        "### Create a class Multiplier with an __init__() to set a factor. Define a __call__() method that multiplies an input by the factor. Test it with callable() and by calling the object like a function."
      ],
      "metadata": {
        "id": "fWHoI86vheIA"
      }
    },
    {
      "cell_type": "code",
      "source": [
        "class Multiplier:\n",
        "  def __init__(self,factor):\n",
        "    self.factor = factor\n",
        "  def __call__(self,x):\n",
        "    return x * self.factor\n",
        "multiplier1 = Multiplier(2)\n",
        "print(multiplier1(5))\n",
        "print(callable(multiplier1))"
      ],
      "metadata": {
        "colab": {
          "base_uri": "https://localhost:8080/"
        },
        "id": "THcbUipehraL",
        "outputId": "59a5b0ca-0e3a-48d0-99f2-4ece94ff2998"
      },
      "execution_count": null,
      "outputs": [
        {
          "output_type": "stream",
          "name": "stdout",
          "text": [
            "10\n",
            "True\n"
          ]
        }
      ]
    },
    {
      "cell_type": "markdown",
      "source": [
        "# **20. Creating a Custom Exception**\n",
        "## **Assignment:**\n",
        "### Create a custom exception InvalidAgeError. Write a function check_age(age) that raises this exception if age < 18. Handle it with try...except."
      ],
      "metadata": {
        "id": "-zt7HkXbh6vc"
      }
    },
    {
      "cell_type": "code",
      "source": [
        "# Step 1: Create a custom exception\n",
        "class InvalidAgeError(Exception):\n",
        "    \"\"\"Exception raised for errors in the input age below 18.\"\"\"\n",
        "    def __init__(self, age, message=\"Age must be at least 18\"):\n",
        "        self.age = age\n",
        "        self.message = message\n",
        "        super().__init__(self.message)\n",
        "\n",
        "# Step 2: Create a function that checks the age\n",
        "def check_age(age):\n",
        "    if age < 18:\n",
        "        raise InvalidAgeError(age)\n",
        "    else:\n",
        "        print(\"Age is valid.\")\n",
        "\n",
        "# Step 3: Use try...except to handle the exception\n",
        "try:\n",
        "    user_age = int(input(\"Enter your age: \"))\n",
        "    check_age(user_age)\n",
        "except InvalidAgeError as e:\n",
        "    print(f\"InvalidAgeError: {e}\")\n",
        "except ValueError:\n",
        "    print(\"Please enter a valid number.\")\n",
        "\n"
      ],
      "metadata": {
        "colab": {
          "base_uri": "https://localhost:8080/"
        },
        "id": "Vu0x1kYoiTk1",
        "outputId": "60c4c37b-07be-4231-c1e4-77815bba3e32"
      },
      "execution_count": null,
      "outputs": [
        {
          "output_type": "stream",
          "name": "stdout",
          "text": [
            "Enter your age: 25\n",
            "Age is valid.\n"
          ]
        }
      ]
    },
    {
      "cell_type": "markdown",
      "source": [
        "# **21. Make a Custom Class Iterable**\n",
        "## **Assignment:**\n",
        "### Create a class Countdown that takes a start number. Implement __iter__() and __next__() to make the object iterable in a for-loop, counting down to 0."
      ],
      "metadata": {
        "id": "qbR7SOkrjaGm"
      }
    },
    {
      "cell_type": "code",
      "source": [
        "class Countdown:\n",
        "    def __init__(self, start):\n",
        "        self.start = start\n",
        "        self.current = start\n",
        "\n",
        "    def __iter__(self):\n",
        "        # Resetting current for new iteration\n",
        "        self.current = self.start\n",
        "        return self\n",
        "\n",
        "    def __next__(self):\n",
        "        if self.current < 0:\n",
        "            raise StopIteration\n",
        "        else:\n",
        "            num = self.current\n",
        "            self.current -= 1\n",
        "            return num\n",
        "\n",
        "# Example usage\n",
        "for number in Countdown(5):\n",
        "    print(number)\n"
      ],
      "metadata": {
        "colab": {
          "base_uri": "https://localhost:8080/"
        },
        "id": "vstHdtbWj7-L",
        "outputId": "e5d5815a-0314-42dc-9caa-d049f9d0059c"
      },
      "execution_count": null,
      "outputs": [
        {
          "output_type": "stream",
          "name": "stdout",
          "text": [
            "5\n",
            "4\n",
            "3\n",
            "2\n",
            "1\n",
            "0\n"
          ]
        }
      ]
    }
  ]
}